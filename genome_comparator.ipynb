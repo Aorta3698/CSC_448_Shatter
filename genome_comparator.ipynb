{
 "cells": [
  {
   "cell_type": "markdown",
   "id": "d280b82c-be28-48f9-b6d8-f56d83a17d02",
   "metadata": {},
   "source": [
    "# Hello! And Welcome to the final stage of Sha++er. \n",
    "\n",
    "## After running match, there should be a file saved to the match folder with the longest match per fragment. Upload this file as 'ans1.csv'.\n",
    "## Upload that file, and the fasta file and the gff3 file for your model organism as 'genomic.gff' (It is likely already named this).\n",
    "\n",
    "## Installing Dependencies"
   ]
  },
  {
   "cell_type": "code",
   "execution_count": 1,
   "id": "921faaf3-84dc-47f0-8c34-c0d22041cd51",
   "metadata": {},
   "outputs": [
    {
     "name": "stdout",
     "output_type": "stream",
     "text": [
      "Defaulting to user installation because normal site-packages is not writeable\n",
      "Requirement already satisfied: biopython in /home/jupyter-ajakusov@calpoly.e-3dd4f/.local/lib/python3.9/site-packages (1.79)\n",
      "Requirement already satisfied: numpy in /opt/tljh/user/lib/python3.9/site-packages (from biopython) (1.22.3)\n",
      "Defaulting to user installation because normal site-packages is not writeable\n",
      "Requirement already satisfied: gffpandas in /home/jupyter-ajakusov@calpoly.e-3dd4f/.local/lib/python3.9/site-packages (1.2.0)\n"
     ]
    }
   ],
   "source": [
    "!pip install biopython\n",
    "!pip install gffpandas\n"
   ]
  },
  {
   "cell_type": "markdown",
   "id": "b9f8fa42-534b-470b-a687-c36d45f62b8a",
   "metadata": {},
   "source": [
    "## Imports"
   ]
  },
  {
   "cell_type": "code",
   "execution_count": 2,
   "id": "e48b315b-f3b4-4780-96c0-4ab2dbd1a0d7",
   "metadata": {},
   "outputs": [],
   "source": [
    "import pandas as pd\n",
    "import Bio \n",
    "from Bio import SeqIO\n",
    "from Bio.Seq import Seq\n",
    "import gffpandas.gffpandas as gffpd\n",
    "from itertools import repeat"
   ]
  },
  {
   "cell_type": "markdown",
   "id": "51dae0a9-1af6-4a2a-87eb-e8014fa2c717",
   "metadata": {},
   "source": [
    "## Create annotations dataframe"
   ]
  },
  {
   "cell_type": "code",
   "execution_count": 3,
   "id": "a0d2ed0f-9ce0-44f7-8069-aa434aa2e1a1",
   "metadata": {},
   "outputs": [],
   "source": [
    "annotation = gffpd.read_gff3('genomic.gff')\n",
    "df_anno = annotation.df\n",
    "df_gene = df_anno[df_anno['type'] == 'gene']"
   ]
  },
  {
   "cell_type": "markdown",
   "id": "44a0acf7-9bb2-44d9-ba12-28156cc916e0",
   "metadata": {},
   "source": [
    "## Change the input_file variable to the name of your model genome's fasta file name then construct Reference Genome String.\n"
   ]
  },
  {
   "cell_type": "code",
   "execution_count": 7,
   "id": "e576bae7-1a95-44bb-be50-857fc55583cf",
   "metadata": {},
   "outputs": [],
   "source": [
    "input_file = '<change me>.fna' ## Change Me\n",
    "input_file = 'c_elegans.fasta'\n",
    "model = SeqIO.to_dict(SeqIO.parse(input_file, \"fasta\"))\n",
    "reference_list = []\n",
    "reference = ''\n",
    "for k in model:\n",
    "    reference_list.append(str(model.get(k).seq))\n",
    "reference = ''.join(reference_list)\n"
   ]
  },
  {
   "cell_type": "markdown",
   "id": "cad51d50-de90-4c34-b51a-ed114dbc0280",
   "metadata": {},
   "source": [
    "## Create a dataframe of the fragments. Alter the min_size variable to filer the fragments based on a minimim size (i.e. only annotate fragments greater than x nucleotides."
   ]
  },
  {
   "cell_type": "code",
   "execution_count": 8,
   "id": "5c2c1ecd-8a17-4d7e-afd9-fca0e9f93c93",
   "metadata": {},
   "outputs": [
    {
     "data": {
      "text/html": [
       "<div>\n",
       "<style scoped>\n",
       "    .dataframe tbody tr th:only-of-type {\n",
       "        vertical-align: middle;\n",
       "    }\n",
       "\n",
       "    .dataframe tbody tr th {\n",
       "        vertical-align: top;\n",
       "    }\n",
       "\n",
       "    .dataframe thead th {\n",
       "        text-align: right;\n",
       "    }\n",
       "</style>\n",
       "<table border=\"1\" class=\"dataframe\">\n",
       "  <thead>\n",
       "    <tr style=\"text-align: right;\">\n",
       "      <th></th>\n",
       "      <th>fragmentID</th>\n",
       "      <th>matched</th>\n",
       "      <th>matchedsize</th>\n",
       "    </tr>\n",
       "  </thead>\n",
       "  <tbody>\n",
       "    <tr>\n",
       "      <th>0</th>\n",
       "      <td>1</td>\n",
       "      <td>CAAAAAAAATAAAAAAAATATAT</td>\n",
       "      <td>23</td>\n",
       "    </tr>\n",
       "    <tr>\n",
       "      <th>1</th>\n",
       "      <td>2</td>\n",
       "      <td>TATTATTATTATTATTATTATTATTATTATTATTATTATT</td>\n",
       "      <td>40</td>\n",
       "    </tr>\n",
       "    <tr>\n",
       "      <th>2</th>\n",
       "      <td>3</td>\n",
       "      <td>ACACACACACACACACACACACACACACACACACACACACACACAC...</td>\n",
       "      <td>172</td>\n",
       "    </tr>\n",
       "    <tr>\n",
       "      <th>3</th>\n",
       "      <td>4</td>\n",
       "      <td>ACACACACACACACCACACACACACACACACACACACACACACACA...</td>\n",
       "      <td>109</td>\n",
       "    </tr>\n",
       "    <tr>\n",
       "      <th>4</th>\n",
       "      <td>5</td>\n",
       "      <td>TTGACACACACACACACACACACACACACACACACACACACACACA...</td>\n",
       "      <td>67</td>\n",
       "    </tr>\n",
       "  </tbody>\n",
       "</table>\n",
       "</div>"
      ],
      "text/plain": [
       "   fragmentID                                            matched  matchedsize\n",
       "0           1                            CAAAAAAAATAAAAAAAATATAT           23\n",
       "1           2           TATTATTATTATTATTATTATTATTATTATTATTATTATT           40\n",
       "2           3  ACACACACACACACACACACACACACACACACACACACACACACAC...          172\n",
       "3           4  ACACACACACACACCACACACACACACACACACACACACACACACA...          109\n",
       "4           5  TTGACACACACACACACACACACACACACACACACACACACACACA...           67"
      ]
     },
     "execution_count": 8,
     "metadata": {},
     "output_type": "execute_result"
    }
   ],
   "source": [
    "min_size = 0 # default, not recommended\n",
    "fragments = pd.read_csv('ans1.csv')\n",
    "my_list = []\n",
    "for row in range(len(fragments)):\n",
    "    my_list.append(len(fragments.iloc[row]['matched']))\n",
    "fragments['matchedsize'] = my_list\n",
    "fragments = fragments[fragments['matchedsize'] >= min_size]\n",
    "fragments.head()\n"
   ]
  },
  {
   "cell_type": "markdown",
   "id": "2a6e30a3-ab77-4a08-bcc8-f0b8ab7ecaf4",
   "metadata": {},
   "source": [
    "## Graph of distribution of length of match to quantity"
   ]
  },
  {
   "cell_type": "code",
   "execution_count": 14,
   "id": "18282280-5fab-48c5-91dd-a48d98af8850",
   "metadata": {},
   "outputs": [
    {
     "data": {
      "text/plain": [
       "<AxesSubplot:title={'center':'Normalized Value Counts of Fragment Length'}, xlabel='Fragment Length', ylabel='Frequency'>"
      ]
     },
     "execution_count": 14,
     "metadata": {},
     "output_type": "execute_result"
    },
    {
     "data": {
      "image/png": "[encoded data removed]",
      "text/plain": [
       "<Figure size 432x288 with 1 Axes>"
      ]
     },
     "metadata": {
      "needs_background": "light"
     },
     "output_type": "display_data"
    }
   ],
   "source": [
    "fragments['matchedsize'].value_counts(normalize=True).sort_index().plot(title = 'Normalized Value Counts of Fragment Length', xlabel = 'Fragment Length', ylabel = 'Frequency')"
   ]
  },
  {
   "cell_type": "markdown",
   "id": "56a81e3a-c664-423e-9fd8-ba5ca7314800",
   "metadata": {},
   "source": [
    "## The brunt of the work: this section will actually perform the annotations. As a time expectation, it will take about 1 minute per 1000 fragments.<br><br> In addition, this will automatically download the result to the directory you are in now when finished, so feel free to go grab a coffee..."
   ]
  },
  {
   "cell_type": "code",
   "execution_count": null,
   "id": "6e4a61e0-0431-4216-999e-9af99ba17c9c",
   "metadata": {},
   "outputs": [],
   "source": [
    "hits_df = df_anno[df_anno['end'] == 0]\n",
    "if hits_df.empty:\n",
    "    print('hi')\n",
    "counts = {}\n",
    "hitseqs = []\n",
    "hitlens = []\n",
    "nonmodel_start = []\n",
    "nonmodel_end = []\n",
    "num = 0\n",
    "for f in fragments.index:\n",
    "    frag = fragments.loc[f]['matched']\n",
    "    lenfrag = len(frag)\n",
    "    start = reference.index(frag)\n",
    "    end = start + lenfrag\n",
    "    hits = df_gene.loc[(df_anno['start'] <= start) & (df_anno['end'] >= end)]\n",
    "    num += 1\n",
    "    if num%100 == 0:\n",
    "        print(num)\n",
    "    if not hits.empty:\n",
    "        hits_df = pd.concat([hits_df,hits])\n",
    "        hitseqs.extend(repeat(frag, len(hits)))\n",
    "        hitlens.extend(repeat(lenfrag, len(hits)))\n",
    "        nonmodel_start.extend(repeat(start, len(hits)))\n",
    "        nonmodel_end.extend(repeat(end, len(hits)))\n",
    "hits_df['fragment'] = hitseqs\n",
    "hits_df['lengths'] = hitlens\n",
    "hits_df['nonmodel_start'] = nonmodel_start\n",
    "hits_df['nonmodel_end'] = nonmodel_end\n",
    "\n",
    "hits_df.to_csv(r'fragment_annotations.csv', index=False, header=True)"
   ]
  },
  {
   "cell_type": "code",
   "execution_count": null,
   "id": "51aa50ad-682c-4fdf-aff3-618b3370cdd7",
   "metadata": {},
   "outputs": [],
   "source": []
  }
 ],
 "metadata": {
  "kernelspec": {
   "display_name": "Python 3 (ipykernel)",
   "language": "python",
   "name": "python3"
  },
  "language_info": {
   "codemirror_mode": {
    "name": "ipython",
    "version": 3
   },
   "file_extension": ".py",
   "mimetype": "text/x-python",
   "name": "python",
   "nbconvert_exporter": "python",
   "pygments_lexer": "ipython3",
   "version": "3.9.7"
  }
 },
 "nbformat": 4,
 "nbformat_minor": 5
}
